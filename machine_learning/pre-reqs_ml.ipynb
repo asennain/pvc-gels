{
 "cells": [
  {
   "attachments": {},
   "cell_type": "markdown",
   "metadata": {},
   "source": [
    "**Python lists vs. Numpy arrays** "
   ]
  },
  {
   "cell_type": "code",
   "execution_count": 20,
   "metadata": {},
   "outputs": [
    {
     "name": "stdout",
     "output_type": "stream",
     "text": [
      "1\n",
      "2\n",
      "3\n",
      "1\n",
      "2\n",
      "3\n",
      "[1, 2, 3, 4, 5]\n",
      "[5 6 7]\n",
      "[2 4 6]\n",
      "[2 4 6]\n",
      "[1, 2, 3, 4, 5, 1, 2, 3, 4, 5]\n",
      "[0.84147098 0.90929743 0.14112001]\n"
     ]
    }
   ],
   "source": [
    "# sourcery skip: aug-assign\n",
    "\"\"\"\n",
    "Background: in most common programming languages, arrays are the go-to for data \n",
    "structures. However, Python does not have arrays pre-built into the language\n",
    "and lists take on that role. This means that numpy arrays must be used instead. \n",
    "The major difference is that numpy arrays support mathematical operations while \n",
    "python lists do not. Python lists behave more as generic object types. \n",
    "\"\"\"\n",
    "\n",
    "import numpy as np \n",
    "\n",
    "# create a python list and numpy array with the same data\n",
    "pythonlist = [1,2,3]\n",
    "numpyarray = np.array([1,2,3])\n",
    "\n",
    "# print python list as normal \n",
    "for element in pythonlist:\n",
    "    print(element)\n",
    "\n",
    "# print numpy array\n",
    "for element in numpyarray:\n",
    "    print(element)\n",
    "\n",
    "#! Both behave as expected when iterating through a for loop \n",
    "#! Now let's append both data types \n",
    "\n",
    "# first method for a python list, use the append method\n",
    "pythonlist.append(4)\n",
    "\n",
    "# Also can add the number 5 using concatenation\n",
    "pythonlist = pythonlist + [5]\n",
    "print(pythonlist)\n",
    "\n",
    "# When you add a two arrays together in numpy, remember that it is \n",
    "# ... in fact an array and will add n to all elements of the matrix\n",
    "print(numpyarray + np.array([4]))\n",
    "\n",
    "# Numpy knows to treat an array as scalar if it has only one element,  \n",
    "# ... otherwise it will assume that it is an array \n",
    "\n",
    "# The following lines result in the same array \n",
    "print(numpyarray*np.array([2]))\n",
    "print(numpyarray*2)\n",
    "\n",
    "#! Remember, using mathematical operations on python objects such as lists\n",
    "#! ... does not result in math actually being done, ex. this just doubles the list\n",
    "# For python lists, the multiplication does repitions, for numpyarrays, it does\n",
    "# ... multiplication as you would expect \n",
    "print(pythonlist*2)\n",
    "\n",
    "# One of the benefits of a np.array() is that it supports elementwise operations using\n",
    "# ...mathematical functions: \n",
    "print(np.sin(numpyarray))\n",
    " "
   ]
  },
  {
   "attachments": {},
   "cell_type": "markdown",
   "metadata": {},
   "source": [
    "**The Dot Product** "
   ]
  },
  {
   "cell_type": "code",
   "execution_count": 25,
   "metadata": {},
   "outputs": [
    {
     "name": "stdout",
     "output_type": "stream",
     "text": [
      "11\n",
      "11\n"
     ]
    }
   ],
   "source": [
    "# sourcery skip: sum-comprehension\n",
    "import numpy as np \n",
    "\n",
    "# Remember that the dot product between two vectors tracks how similar in direction \n",
    "# ... their final product is pointing. This can be calculated by finding the sum of x-products \n",
    "# .... and the sum of y-products. \n",
    "a = np.array([1,2])\n",
    "b = np.array([3, 4])\n",
    "\n",
    "# Remember the iterator in python for loops is always initialized at zero\n",
    "# If the array has two columns, they will be indexed as 0, 1\n",
    "# In this case, i is iterating from zero to one \n",
    "# Calculate the dot product\n",
    "dot = 0\n",
    "for i in range(len(a)):\n",
    "    dot += a[i]*b[i]\n",
    "print(dot)\n",
    "\n",
    "# Or just use the dot function in numpy \n",
    "print(np.dot(a,b))\n",
    "\n",
    "# Find the magnitude of a vector\n",
    "np.sqrt((a**2).sum())\n",
    "\n",
    "# Or use the linalg module from numpy\n",
    "np.linalg.norm(a)\n",
    "\n",
    "#! Using numpy to calculate the dot product is much faster than using for loops \n",
    "#! ... however keep in mind there are scenarios where this is not always possible \n"
   ]
  },
  {
   "attachments": {},
   "cell_type": "markdown",
   "metadata": {},
   "source": [
    "**Matrices** "
   ]
  },
  {
   "cell_type": "code",
   "execution_count": null,
   "metadata": {},
   "outputs": [],
   "source": []
  },
  {
   "cell_type": "code",
   "execution_count": 23,
   "metadata": {},
   "outputs": [
    {
     "data": {
      "text/plain": [
       "array([1, 4])"
      ]
     },
     "execution_count": 23,
     "metadata": {},
     "output_type": "execute_result"
    }
   ],
   "source": [
    "import numpy as np \n",
    "\n",
    "# np.array take a list of lists, this is how\n",
    "# ... matrices are represented \n",
    "A = np.array([[1,2], [3,4]])\n",
    "\n",
    "# Pull row zero column 1 value\n",
    "A[0][1]\n",
    "# Same thing \n",
    "A[0,1]\n",
    "\n",
    "# To access column zero only\n",
    "# Access all rows (:) and column zero only \n",
    "A[:,0]\n",
    "\n",
    "# Transpose the matrix A using .T\n",
    "A.T\n",
    "\n",
    "#  element-wise operations \n",
    "np.exp(A)\n",
    "\n",
    "np.matrix.view(A)\n",
    "\n",
    "B = np.array([[1,2,3],[4,5,6]])\n",
    "A.dot(B)\n",
    "\n",
    "# Take diagonal elements array (or matrix) \n",
    "np.diag(A)"
   ]
  },
  {
   "attachments": {},
   "cell_type": "markdown",
   "metadata": {},
   "source": [
    "**Solving Linear Systems**"
   ]
  },
  {
   "cell_type": "code",
   "execution_count": 25,
   "metadata": {},
   "outputs": [
    {
     "data": {
      "text/plain": [
       "array([1500.,  700.])"
      ]
     },
     "execution_count": 25,
     "metadata": {},
     "output_type": "execute_result"
    }
   ],
   "source": [
    "import numpy as np \n",
    "\n",
    "#! Whenever solving linear systems, don't use \n",
    "#! ... np.linalg.inv(A).dot(b)\n",
    "\n",
    "# Use np.linalg.solve(A,b) to solve linear system\n",
    "# ... of equations \n",
    "\n",
    "A = np.array([[1 ,1], [1.5, 4]])\n",
    "b = np.array([2200, 5050])\n",
    "\n",
    "np.linalg.solve(A,b)"
   ]
  },
  {
   "attachments": {},
   "cell_type": "markdown",
   "metadata": {},
   "source": [
    "***Generating Data***"
   ]
  },
  {
   "cell_type": "code",
   "execution_count": 51,
   "metadata": {},
   "outputs": [
    {
     "data": {
      "text/plain": [
       "-0.0028036176974433726"
      ]
     },
     "execution_count": 51,
     "metadata": {},
     "output_type": "execute_result"
    }
   ],
   "source": [
    "# it is useful to test generate test data\n",
    "# ... to test algorithms \n",
    "\n",
    "# 2 x 3 array of zeros \n",
    "np.zeros((2,3))\n",
    "\n",
    "# 2 x 3 array of ones \n",
    "np.ones((2,3)) \n",
    "\n",
    "# Identity matrix\n",
    "np.eye(4)\n",
    "\n",
    "# Generate arrays with random numbers \n",
    "np.random.randn(2, 2)\n",
    "\n",
    "np.random.randn(100000).mean()"
   ]
  },
  {
   "attachments": {},
   "cell_type": "markdown",
   "metadata": {},
   "source": [
    "***Line Chart***"
   ]
  },
  {
   "cell_type": "code",
   "execution_count": 62,
   "metadata": {},
   "outputs": [
    {
     "data": {
      "text/plain": [
       "[<matplotlib.lines.Line2D at 0x1c7dc9f5390>]"
      ]
     },
     "execution_count": 62,
     "metadata": {},
     "output_type": "execute_result"
    },
    {
     "data": {
      "image/png": "[encoded data removed]",
      "text/plain": [
       "<Figure size 640x480 with 1 Axes>"
      ]
     },
     "metadata": {},
     "output_type": "display_data"
    }
   ],
   "source": [
    "import numpy as np \n",
    "import matplotlib.pyplot as plt \n",
    "\n",
    "x = np.linspace(0, 20, 1000)\n",
    "y = np.sin(x)*x + 3\n",
    "\n",
    "plt.plot(x,y)\n"
   ]
  },
  {
   "attachments": {},
   "cell_type": "markdown",
   "metadata": {},
   "source": [
    "***Pandas***"
   ]
  },
  {
   "cell_type": "code",
   "execution_count": null,
   "metadata": {},
   "outputs": [],
   "source": []
  }
 ],
 "metadata": {
  "kernelspec": {
   "display_name": ".venv.pvc-gels",
   "language": "python",
   "name": "python3"
  },
  "language_info": {
   "codemirror_mode": {
    "name": "ipython",
    "version": 3
   },
   "file_extension": ".py",
   "mimetype": "text/x-python",
   "name": "python",
   "nbconvert_exporter": "python",
   "pygments_lexer": "ipython3",
   "version": "3.11.2"
  },
  "orig_nbformat": 4,
  "vscode": {
   "interpreter": {
    "hash": "3e8392a29117f42a48d9db7aec6beec8a802e1f3d46426471ba921525c1e8e83"
   }
  }
 },
 "nbformat": 4,
 "nbformat_minor": 2
}
