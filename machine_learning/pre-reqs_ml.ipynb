{
 "cells": [
  {
   "attachments": {},
   "cell_type": "markdown",
   "metadata": {},
   "source": [
    "**Python lists vs. Numpy arrays** "
   ]
  },
  {
   "cell_type": "code",
   "execution_count": 19,
   "metadata": {},
   "outputs": [
    {
     "name": "stdout",
     "output_type": "stream",
     "text": [
      "1\n",
      "2\n",
      "3\n",
      "1\n",
      "2\n",
      "3\n",
      "[1, 2, 3, 4, 5]\n",
      "[5 6 7]\n",
      "[2 4 6]\n",
      "[2 4 6]\n",
      "[1, 2, 3, 4, 5, 1, 2, 3, 4, 5]\n",
      "[0.84147098 0.90929743 0.14112001]\n"
     ]
    }
   ],
   "source": [
    "\"\"\"\n",
    "Background: in most common programming languages, arrays are the go-to for data \n",
    "structures. However, Python does not have arrays pre-built into the language\n",
    "and lists take on that role. This means that numpy arrays must be used instead. \n",
    "The major difference is that numpy arrays support mathematical operations while \n",
    "python lists, do not. Python lists behave more as generic object types. \n",
    "\"\"\"\n",
    "\n",
    "import numpy as np \n",
    "\n",
    "# create a python list and numpy array with the same data\n",
    "pythonlist = [1,2,3]\n",
    "numpyarray = np.array([1,2,3])\n",
    "\n",
    "# print python list as normal \n",
    "for element in pythonlist:\n",
    "    print(element)\n",
    "\n",
    "# print numpy array\n",
    "for element in numpyarray:\n",
    "    print(element)\n",
    "\n",
    "#! Both behave as expected when iterating through a for loop \n",
    "#! Now let's append both data types \n",
    "\n",
    "# first method for a python list, use the append method\n",
    "pythonlist.append(4)\n",
    "\n",
    "# Also can add the number 5 using concatenation\n",
    "pythonlist = pythonlist + [5]\n",
    "print(pythonlist)\n",
    "\n",
    "# When you add a two arrays together in numpy, remember that it is \n",
    "# ... in fact an array and will add n to all elements of the matrix\n",
    "print(numpyarray + np.array([4]))\n",
    "\n",
    "# Numpy knows to treat an array as scalar if it has only one element,  \n",
    "# ... otherwise it will assume that it is an array \n",
    "\n",
    "# The following lines result in the same array \n",
    "print(numpyarray*np.array([2]))\n",
    "print(numpyarray*2)\n",
    "\n",
    "#! Remember, using mathematical operations on python objects such as lists\n",
    "#! ... does not result in math actually being done, ex. this just doubles the list\n",
    "# For python lists, the multiplication does repitions, for numpyarrays, it does\n",
    "# ... multiplication as you would expect \n",
    "print(pythonlist*2)\n",
    "\n",
    "# One of the benefits of a np.array() is that it supports elementwise operations using\n",
    "# ...mathematical functions: \n",
    "print(np.sin(numpyarray))\n",
    " "
   ]
  }
 ],
 "metadata": {
  "kernelspec": {
   "display_name": ".venv.pvc-gels",
   "language": "python",
   "name": "python3"
  },
  "language_info": {
   "codemirror_mode": {
    "name": "ipython",
    "version": 3
   },
   "file_extension": ".py",
   "mimetype": "text/x-python",
   "name": "python",
   "nbconvert_exporter": "python",
   "pygments_lexer": "ipython3",
   "version": "3.11.2"
  },
  "orig_nbformat": 4
 },
 "nbformat": 4,
 "nbformat_minor": 2
}
