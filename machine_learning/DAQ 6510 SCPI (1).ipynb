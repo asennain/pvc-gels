{
 "cells": [
  {
   "cell_type": "code",
   "execution_count": 77,
   "metadata": {},
   "outputs": [
    {
     "name": "stdout",
     "output_type": "stream",
     "text": [
      "KEITHLEY INSTRUMENTS,MODEL DAQ6510,04376148,1.7.12b\n",
      "\n"
     ]
    }
   ],
   "source": [
    "\"\"\"****************************INSTRUMENT SETUP****************************\"\"\"\n",
    "import csv\n",
    "import socket\n",
    "from KeithleyConnect import instrument_connect,instrument_query,instrument_write, instrument_disconnect\n",
    "\n",
    "\n",
    "\"\"\"***********************************************************************\"\"\"\n",
    "\"\"\"*********MAKE SURE THE KEITHLEY IS SET TO SCPI TO COMMUNITCATE*********\"\"\"\n",
    "\"\"\"***********************************************************************\"\"\"\n",
    "\n",
    "\n",
    "\"\"\"****************************INSTRUMENT CONNECTION****************************\"\"\"\n",
    "#! Go into Windows and set the Ethernet connection to manual \n",
    "# define the instrament's IP address. the port is always 5025 for LAN connection.\n",
    "ip_address = \"169.254.233.64\"\n",
    "my_port = 5025\n",
    "\n",
    "# establish connection to the LAN socket. initialize and connect to the Keithley\n",
    "socket.socket().close()        # Close the connection if one already exists \n",
    "data_socket = socket.socket()  # Establish a TCP/IP socket object\n",
    "instrument_connect(data_socket, ip_address, my_port, 10000, 0, 1) \n",
    "\n",
    "\n",
    "\"\"\"***************INSTRUMENT SET UP***************\"\"\"\n",
    "# reset the device\n",
    "instrument_write(data_socket, \"*RST\")\n",
    "\n",
    "# define the measurement channels\n",
    "channel_names = input()\n",
    "channel_count = len(channel_names.split(','))\n",
    "channel_names = str(channel_names)\n",
    "\n",
    "# define the scan list, set scan count to infinite, and channel delay of 75 um\n",
    "instrument_write(data_socket, \":ROUTe:SCAN:CRE (@{0})\".format(channel_names)) # Create channels\n",
    "instrument_write(data_socket, \":ROUTe:SCAN:COUN:SCAN 0\") # Infinite scan count\n",
    "instrument_write(data_socket, \":ROUTe:DEL 0.0002, (@{0})\".format(channel_names)) # Channel delay\n",
    "instrument_write(data_socket, \":ROUTe:SCAN:INT .05\") # Scan to scan interval \n",
    "\n",
    "\n",
    "\n",
    "\n",
    "# choose the buffer and assign all data to the buffer after clearing it\n",
    "instrument_write(data_socket, \"TRACe:CLEar\") \n",
    "instrument_write(data_socket, \":TRAC:FILL:MODE CONT, \\\"defbuffer1\\\"\")\n",
    "instrument_write(data_socket, \":ROUT:SCAN:BUFF \\\"defbuffer1\\\"\")\n",
    "\n",
    "# # define the channel functions\n",
    "instrument_write(data_socket, \"FUNC 'VOLT:DC', (@{0})\".format(channel_names)) \n",
    "\n",
    "# # define channel parameters such as range to 1 volt, autozero off, and line sync on\n",
    "instrument_write(data_socket, \"VOLT:DC:RANG 1, (@{0})\".format(channel_names)) # Range\n",
    "instrument_write(data_socket, \"VOLT:DC:AZER OFF, (@{0})\".format(channel_names)) # Auto-zero off\n",
    "instrument_write(data_socket, \"VOLT:DC:LINE:SYNC ON, (@{0})\".format(channel_names)) # Line sync on \n",
    "instrument_write(data_socket, \"VOLT:DC:DEL:AUTO ON, (@{0})\".format(channel_names)) # Auto-delay off\n",
    "instrument_write(data_socket, \":SENS:VOLT:DC:NPLC 1, (@{0})\".format(channel_names)) # NPLC\n",
    "instrument_write(data_socket, \"VOLT:DC:INP MOHM10, (@{0})\".format(channel_names)) # Input impedance\n",
    "\n",
    "\n",
    "\n",
    "\n",
    "# enable the graph to plot the data\n",
    "instrument_write(data_socket, \":DISP:SCR HOME\")\n",
    "instrument_write(data_socket, \"DISP:WATC:CHAN (@108)\") \n",
    "instrument_write(data_socket, \":DISP:SCR GRAP\")\n",
    "\n"
   ]
  },
  {
   "attachments": {},
   "cell_type": "markdown",
   "metadata": {},
   "source": []
  },
  {
   "cell_type": "code",
   "execution_count": 80,
   "metadata": {},
   "outputs": [
    {
     "name": "stdout",
     "output_type": "stream",
     "text": [
      "done\n"
     ]
    }
   ],
   "source": [
    "\"\"\"****************************DATA COLLECTION****************************\"\"\"\n",
    "# begin data collection\n",
    "instrument_write(data_socket,\"INIT\")\n",
    "\n",
    "# press enter to stop data collection. we need the instrument query to be an \n",
    "# integer value of the channels. if not we get error 1115 \n",
    "input('') == ()\n",
    "while 1 == 1:\n",
    "    if int(instrument_query(data_socket, \"TRACe:ACTual:END? \\\"defbuffer1\\\"\", 16).rstrip()) % channel_count == 0:       \n",
    "        instrument_write(data_socket,\"ABORT\")\n",
    "        break\n",
    "    \n",
    "# identify how many readings there are\n",
    "readings_count = int(instrument_query(data_socket, \"TRACe:ACTual?\", 16).rstrip())\n",
    "\n",
    "# preallocate counters and a Data list \n",
    "start_index = 1\n",
    "end_index = channel_count\n",
    "accumulated_readings = 0\n",
    "Data = []\n",
    "\n",
    "# read the buffer and place measurements into the \n",
    "while accumulated_readings < readings_count:\n",
    "    Data.append(instrument_query(data_socket, \"TRACe:DATA? {0}, {1}, \\\"defbuffer1\\\", REL, READ\".format(start_index, end_index), 128).split(','))\n",
    "    start_index += channel_count\n",
    "    end_index += channel_count\n",
    "    accumulated_readings += channel_count\n",
    "\n",
    "# Notify the user of completion and the data streaming rate achieved. \n",
    "print(\"done\")"
   ]
  },
  {
   "cell_type": "code",
   "execution_count": 1,
   "metadata": {},
   "outputs": [
    {
     "name": "stdout",
     "output_type": "stream",
     "text": [
      "Change the file name, dumbass\n",
      "Done\n"
     ]
    }
   ],
   "source": [
    "\"\"\"****************************DATA EXPORT****************************\"\"\"\n",
    "# define file name and its placement\n",
    "file_name = 'P6_S1_F300mHz_mass100g'\n",
    "directory_name = 'C:\\\\Users\\\\facci\\\\Desktop\\\\Kiethley Programming\\\\Data\\\\'\n",
    "\n",
    "# make sure you changed the file name and let the program export the csv\n",
    "if input('Did you change the file name') == 'yes':\n",
    "    newFile = open('{0} {1}.csv'.format(directory_name, file_name),'w',newline='')\n",
    "    newWriter = csv.writer(newFile, dialect='excel')\n",
    "    for i in range(len(Data)):\n",
    "        newWriter.writerow(Data[i])\n",
    "    newFile.close()\n",
    "else:\n",
    "    print(\"Change the file name, dumbass\")\n",
    "\n",
    "print('Done')"
   ]
  }
 ],
 "metadata": {
  "kernelspec": {
   "display_name": "Python 3",
   "language": "python",
   "name": "python3"
  },
  "language_info": {
   "codemirror_mode": {
    "name": "ipython",
    "version": 3
   },
   "file_extension": ".py",
   "mimetype": "text/x-python",
   "name": "python",
   "nbconvert_exporter": "python",
   "pygments_lexer": "ipython3",
   "version": "3.11.2"
  },
  "orig_nbformat": 4
 },
 "nbformat": 4,
 "nbformat_minor": 2
}
