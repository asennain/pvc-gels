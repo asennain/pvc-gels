{
 "cells": [
  {
   "cell_type": "code",
   "execution_count": 3,
   "metadata": {},
   "outputs": [
    {
     "ename": "ConnectionResetError",
     "evalue": "[WinError 10054] An existing connection was forcibly closed by the remote host",
     "output_type": "error",
     "traceback": [
      "\u001b[1;31m---------------------------------------------------------------------------\u001b[0m",
      "\u001b[1;31mConnectionResetError\u001b[0m                      Traceback (most recent call last)",
      "Cell \u001b[1;32mIn[3], line 22\u001b[0m\n\u001b[0;32m     18\u001b[0m channels \u001b[39m=\u001b[39m \u001b[39m\"\u001b[39m\u001b[39m108, 110\u001b[39m\u001b[39m\"\u001b[39m\n\u001b[0;32m     21\u001b[0m \u001b[39m# Connect instruments\u001b[39;00m\n\u001b[1;32m---> 22\u001b[0m connect_keithley(ip_address\u001b[39m=\u001b[39;49m\u001b[39m\"\u001b[39;49m\u001b[39m169.254.167.76\u001b[39;49m\u001b[39m\"\u001b[39;49m, channels\u001b[39m=\u001b[39;49mchannels, data_socket\u001b[39m=\u001b[39;49mdata_socket)\n\u001b[0;32m     23\u001b[0m ser \u001b[39m=\u001b[39m serial\u001b[39m.\u001b[39mSerial(\u001b[39m'\u001b[39m\u001b[39mCOM4\u001b[39m\u001b[39m'\u001b[39m, \u001b[39m250000\u001b[39m) \n\u001b[0;32m     25\u001b[0m \u001b[39m# Begin data collection\u001b[39;00m\n",
      "File \u001b[1;32mc:\\Users\\asenn\\pycode\\pyprojects\\pvc-gels\\machine_learning\\Experiment Automation\\functions.py:16\u001b[0m, in \u001b[0;36mconnect_keithley\u001b[1;34m(ip_address, channels, data_socket)\u001b[0m\n\u001b[0;32m     10\u001b[0m \u001b[39m\u001b[39m\u001b[39m\"\"\"****************************INSTRUMENT CONNECTION****************************\"\"\"\u001b[39;00m\n\u001b[0;32m     11\u001b[0m \u001b[39m#! Go into Windows and set the Ethernet connection to manual \u001b[39;00m\n\u001b[0;32m     12\u001b[0m \u001b[39m# define the instrament's IP address. the port is always 5025 for LAN connection.\u001b[39;00m\n\u001b[0;32m     13\u001b[0m \u001b[39m# establish connection to the LAN socket. initialize and connect to the Keithley\u001b[39;00m\n\u001b[0;32m     14\u001b[0m       \u001b[39m# Close the connection if one already exists \u001b[39;00m\n\u001b[0;32m     15\u001b[0m   \u001b[39m# Establish a TCP/IP socket object\u001b[39;00m\n\u001b[1;32m---> 16\u001b[0m instrument_connect(data_socket, ip_address, \u001b[39m5025\u001b[39;49m, \u001b[39m10000\u001b[39;49m, \u001b[39m0\u001b[39;49m, \u001b[39m1\u001b[39;49m) \n\u001b[0;32m     18\u001b[0m \u001b[39m\u001b[39m\u001b[39m\"\"\"***************INSTRUMENT SET UP***************\"\"\"\u001b[39;00m\n\u001b[0;32m     19\u001b[0m \u001b[39m# reset the device\u001b[39;00m\n",
      "File \u001b[1;32mc:\\Users\\asenn\\pycode\\pyprojects\\pvc-gels\\machine_learning\\Experiment Automation\\KeithleyConnect.py:35\u001b[0m, in \u001b[0;36minstrument_connect\u001b[1;34m(my_socket, my_address, my_port, timeout, do_reset, do_id_query)\u001b[0m\n\u001b[0;32m     33\u001b[0m     instrument_write(my_socket, \u001b[39m\"\u001b[39m\u001b[39m*RST\u001b[39m\u001b[39m\"\u001b[39m)\n\u001b[0;32m     34\u001b[0m \u001b[39mif\u001b[39;00m do_id_query \u001b[39m==\u001b[39m \u001b[39m1\u001b[39m:\n\u001b[1;32m---> 35\u001b[0m     tmp_id \u001b[39m=\u001b[39m instrument_query(my_socket, \u001b[39m\"\u001b[39;49m\u001b[39m*IDN?\u001b[39;49m\u001b[39m\"\u001b[39;49m, \u001b[39m100\u001b[39;49m)\n\u001b[0;32m     36\u001b[0m     \u001b[39mprint\u001b[39m(tmp_id)\n\u001b[0;32m     37\u001b[0m \u001b[39mreturn\u001b[39;00m my_socket\n",
      "File \u001b[1;32mc:\\Users\\asenn\\pycode\\pyprojects\\pvc-gels\\machine_learning\\Experiment Automation\\KeithleyConnect.py:134\u001b[0m, in \u001b[0;36minstrument_query\u001b[1;34m(my_socket, my_command, receive_size)\u001b[0m\n\u001b[0;32m    132\u001b[0m \u001b[39mdef\u001b[39;00m \u001b[39minstrument_query\u001b[39m(my_socket, my_command, receive_size):\n\u001b[0;32m    133\u001b[0m     instrument_write(my_socket, my_command)\n\u001b[1;32m--> 134\u001b[0m     \u001b[39mreturn\u001b[39;00m instrument_read(my_socket, receive_size)\n",
      "File \u001b[1;32mc:\\Users\\asenn\\pycode\\pyprojects\\pvc-gels\\machine_learning\\Experiment Automation\\KeithleyConnect.py:106\u001b[0m, in \u001b[0;36minstrument_read\u001b[1;34m(my_socket, receive_size)\u001b[0m\n\u001b[0;32m    105\u001b[0m \u001b[39mdef\u001b[39;00m \u001b[39minstrument_read\u001b[39m(my_socket, receive_size):\n\u001b[1;32m--> 106\u001b[0m     \u001b[39mreturn\u001b[39;00m my_socket\u001b[39m.\u001b[39;49mrecv(receive_size)\u001b[39m.\u001b[39mdecode()\n",
      "\u001b[1;31mConnectionResetError\u001b[0m: [WinError 10054] An existing connection was forcibly closed by the remote host"
     ]
    }
   ],
   "source": [
    "\"\"\"****************************INSTRUMENT SETUP****************************\"\"\"\n",
    "import csv\n",
    "import socket\n",
    "import serial\n",
    "import time\n",
    "from functions import connect_keithley\n",
    "from functions import stop_trail_export_csv\n",
    "from functions import connect_3D_printer\n",
    "from KeithleyConnect import (\n",
    "    instrument_connect,\n",
    "    instrument_query,\n",
    "    instrument_write,\n",
    "    instrument_disconnect,\n",
    ")\n",
    "\n",
    "\n",
    "data_socket = socket.socket()\n",
    "channels = \"108, 110\"\n",
    "\n",
    "\n",
    "# Connect instruments\n",
    "connect_keithley(ip_address=\"169.254.167.76\", channels=channels, data_socket=data_socket)\n",
    "ser = serial.Serial('COM4', 250000) \n",
    "\n",
    "# Begin data collection\n",
    "instrument_write(data_socket, \"INIT\")\n",
    "\n",
    "#!##\n",
    "\n",
    "# Experiment code goes here\n",
    "for _ in range(2): # number in range() is the total number of steps\n",
    "    ser.write(\"G91\\n\".encode())\n",
    "    time.sleep(1)\n",
    "    ser.write((\"G1 Z.15\\n\").encode())\n",
    "    time.sleep(1) # Total wait time, add one second to number in time.sleep(), so time.sleep(3) is 4 seconds between all\n",
    "\n",
    "\n",
    "\n",
    "stop_trail_export_csv(\n",
    "    file_name=r\"test_trial\",\n",
    "    directory_name=r\"C:\\\\Users\\\\asenn\\\\OneDrive\\\\Documents\\\\\",\n",
    "    data_socket=data_socket,\n",
    "    channels=channels\n",
    ")\n",
    "\n",
    "ser.close() # Close the connection when finished \n",
    "data_socket.close()\n"
   ]
  }
 ],
 "metadata": {
  "kernelspec": {
   "display_name": "Python 3",
   "language": "python",
   "name": "python3"
  },
  "language_info": {
   "codemirror_mode": {
    "name": "ipython",
    "version": 3
   },
   "file_extension": ".py",
   "mimetype": "text/x-python",
   "name": "python",
   "nbconvert_exporter": "python",
   "pygments_lexer": "ipython3",
   "version": "3.11.2"
  },
  "orig_nbformat": 4
 },
 "nbformat": 4,
 "nbformat_minor": 2
}
