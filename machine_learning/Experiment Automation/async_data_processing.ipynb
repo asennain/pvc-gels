{
 "cells": [
  {
   "cell_type": "code",
   "execution_count": 84,
   "metadata": {},
   "outputs": [],
   "source": [
    "from IPython.core.interactiveshell import InteractiveShell\n",
    "InteractiveShell.ast_node_interactivity = \"all\"\n",
    "\n",
    "import os\n",
    "import pandas as pd\n",
    "from pathlib import Path\n",
    "\n",
    "\n",
    "def main():\n",
    "    get_data(Path(r'C:\\Users\\asenn\\OneDrive\\School\\Research\\MSIPP (Georgia 2023)\\Automated Data'))\n",
    "    pd.set_option('display.max_rows', None)\n",
    "\n",
    "\n",
    "\n",
    "def get_data(folder: Path) -> pd.DataFrame:\n",
    "    \"\"\"Put data into MultiIndex DataFrame\"\"\"\n",
    "    loads: list[pd.Series] = []\n",
    "    responses: list[pd.Series] = []\n",
    "    multiindex_tuples: list[tuple[str, str]] = []\n",
    "    for file in os.listdir(folder):\n",
    "        temperature, trial_index = get_index(Path(os.path.join(folder, file))) \n",
    "        trial = pd.read_csv(os.path.join(folder, file))\n",
    "        load = trial.iloc[:,3] * -25000\n",
    "        response = trial.iloc[:,1] * 1000\n",
    "        loads.append(load)\n",
    "        responses.append(response)\n",
    "        multiindex_tuples.append((temperature, trial_index))\n",
    "    \n",
    "    multiindex=pd.MultiIndex.from_tuples(multiindex_tuples, names=['Temperature', 'Experiment'])\n",
    "    unfiltered_data = pd.DataFrame({'Load':loads, 'Response':responses}, index=multiindex)\n",
    "\n",
    "   #display(unfiltered_data.head())\n",
    "    #display(unfiltered_data)\n",
    "   #display(unfiltered_data.loc[('T1', 'E1'), 'Response'])\n",
    "   \n",
    "\n",
    "\n",
    "def get_index(filepath: Path) -> tuple[str, str]:\n",
    "    \"\"\"Parse trial filenames and get the temperature and trial.\"\"\"\n",
    "    temperature = filepath.stem[:2]\n",
    "    trial_index = filepath.stem[2:]\n",
    "    return temperature, trial_index\n",
    "\n",
    "if __name__ == \"__main__\":\n",
    "    main()\n",
    "\n",
    "\n"
   ]
  },
  {
   "cell_type": "code",
   "execution_count": 23,
   "metadata": {},
   "outputs": [
    {
     "name": "stdout",
     "output_type": "stream",
     "text": [
      "0      0.002783\n",
      "1      0.002703\n",
      "2      0.003038\n",
      "3      0.002821\n",
      "4      0.002859\n",
      "         ...   \n",
      "767    0.003272\n",
      "768    0.003204\n",
      "769    0.003280\n",
      "770    0.003391\n",
      "771    0.003225\n",
      "Name: 2.992413E-03, Length: 772, dtype: float64\n"
     ]
    }
   ],
   "source": [
    "file = 'T1E12.csv'\n",
    "#! C:\\Users\\asenn\\OneDrive\\School\\Research\\MSIPP (Georgia 2023)\\Automated Data\n",
    "folder = Path(r'C:\\Users\\asenn\\OneDrive\\School\\Research\\MSIPP (Georgia 2023)\\Automated Data')\n",
    "trial = pd.read_csv(os.path.join(folder, file))\n",
    "print(trial.iloc[:,1])"
   ]
  }
 ],
 "metadata": {
  "kernelspec": {
   "display_name": ".venv.pvc-gels",
   "language": "python",
   "name": "python3"
  },
  "language_info": {
   "codemirror_mode": {
    "name": "ipython",
    "version": 3
   },
   "file_extension": ".py",
   "mimetype": "text/x-python",
   "name": "python",
   "nbconvert_exporter": "python",
   "pygments_lexer": "ipython3",
   "version": "3.11.2"
  },
  "orig_nbformat": 4
 },
 "nbformat": 4,
 "nbformat_minor": 2
}
