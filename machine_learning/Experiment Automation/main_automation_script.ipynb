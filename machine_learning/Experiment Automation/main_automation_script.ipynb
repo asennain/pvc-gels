{
 "cells": [
  {
   "cell_type": "code",
   "execution_count": 1,
   "metadata": {},
   "outputs": [
    {
     "name": "stdout",
     "output_type": "stream",
     "text": [
      "KEITHLEY INSTRUMENTS,MODEL DAQ6510,04376148,1.7.12b\n",
      "\n"
     ]
    }
   ],
   "source": [
    "\"\"\"****************************INSTRUMENT SETUP****************************\"\"\"\n",
    "\n",
    "import csv\n",
    "import socket\n",
    "import serial\n",
    "import time\n",
    "from functions import (\n",
    "    connect_keithley,\n",
    "    stop_trail_export_csv,\n",
    "    step_down,\n",
    "    heat_bed,\n",
    "    collect_repeated_data,\n",
    ")\n",
    "from KeithleyConnect import (\n",
    "    instrument_connect,\n",
    "    instrument_query,\n",
    "    instrument_write,\n",
    "    instrument_disconnect,\n",
    ")\n",
    "\n",
    "channels = \"108, 110\"\n",
    "ip_address = \"169.254.244.69\"\n",
    "channel_count = len(channels.split(\",\"))\n",
    "folder_path = r\"C:\\Users\\asenn\\OneDrive\\School\\Research\\MSIPP (Georgia 2023)\\Automated Data Trial 2\"\n",
    "\n",
    "\n",
    "data_socket = socket.socket()\n",
    "ser = serial.Serial(\"COM4\", 250000)\n",
    "connect_keithley(ip_address=ip_address, channels=channels, data_socket=data_socket)\n",
    "\n",
    "iterations = 28\n",
    "increment_distance = -0.01\n",
    "time_interval = 2\n",
    "\n",
    "#!################################################# Main Experiment Code ##################################################################################\n",
    "\n",
    "try:\n",
    "\n",
    "    collect_repeated_data(\n",
    "        temperature_alias=\"T1\",\n",
    "        iterations=iterations,\n",
    "        increment_distance=increment_distance,\n",
    "        time_interval=time_interval,\n",
    "        folder_path=folder_path,\n",
    "        channel_count=channel_count,\n",
    "        channels=channels,\n",
    "        ip_address=ip_address,\n",
    "        data_socket=data_socket,\n",
    "        ser=ser,\n",
    "    )\n",
    "\n",
    "    heat_bed(temp=30, ser=ser)\n",
    "\n",
    "    collect_repeated_data(\n",
    "        temperature_alias=\"T2\",\n",
    "        iterations=iterations,\n",
    "        increment_distance=increment_distance,\n",
    "        time_interval=time_interval,\n",
    "        folder_path=folder_path,\n",
    "        channel_count=channel_count,\n",
    "        channels=channels,\n",
    "        ip_address=ip_address,\n",
    "        data_socket=data_socket,\n",
    "        ser=ser,\n",
    "    )\n",
    "\n",
    "    heat_bed(temp=40, ser=ser)\n",
    "\n",
    "    collect_repeated_data(\n",
    "        temperature_alias=\"T3\",\n",
    "        iterations=iterations,\n",
    "        increment_distance=increment_distance,\n",
    "        time_interval=time_interval,\n",
    "        folder_path=folder_path,\n",
    "        channel_count=channel_count,\n",
    "        channels=channels,\n",
    "        ip_address=ip_address,\n",
    "        data_socket=data_socket,\n",
    "        ser=ser,\n",
    "    )\n",
    "\n",
    "\n",
    "    #! Turn off temperature\n",
    "    heat_bed(temp=23, ser=ser)\n",
    "\n",
    "    # Close all connections when finished\n",
    "    ser.close()\n",
    "\n",
    "    #!####################################################################################################################################\n",
    "\n",
    "finally: \n",
    "    if not ser.is_open:\n",
    "        ser = serial.Serial(\"COM4\", 250000)\n",
    "    time.sleep(1)\n",
    "    heat_bed(temp=23, ser=ser)\n",
    "    time.sleep(1)\n",
    "    ser.close()\n",
    "\n",
    "    "
   ]
  },
  {
   "cell_type": "code",
   "execution_count": 3,
   "metadata": {},
   "outputs": [
    {
     "ename": "SerialException",
     "evalue": "could not open port 'COM4': PermissionError(13, 'Access is denied.', None, 5)",
     "output_type": "error",
     "traceback": [
      "\u001b[1;31m---------------------------------------------------------------------------\u001b[0m",
      "\u001b[1;31mSerialException\u001b[0m                           Traceback (most recent call last)",
      "Cell \u001b[1;32mIn[3], line 2\u001b[0m\n\u001b[0;32m      1\u001b[0m \u001b[39mimport\u001b[39;00m \u001b[39mserial\u001b[39;00m\n\u001b[1;32m----> 2\u001b[0m ser \u001b[39m=\u001b[39m serial\u001b[39m.\u001b[39;49mSerial(\u001b[39m\"\u001b[39;49m\u001b[39mCOM4\u001b[39;49m\u001b[39m\"\u001b[39;49m, \u001b[39m250000\u001b[39;49m)\n\u001b[0;32m      3\u001b[0m ser\u001b[39m.\u001b[39mclose()\n",
      "File \u001b[1;32mc:\\Users\\asenn\\pycode\\pyprojects\\pvc-gels\\.venv.pvc-gels\\Lib\\site-packages\\serial\\serialwin32.py:33\u001b[0m, in \u001b[0;36mSerial.__init__\u001b[1;34m(self, *args, **kwargs)\u001b[0m\n\u001b[0;32m     31\u001b[0m \u001b[39mself\u001b[39m\u001b[39m.\u001b[39m_overlapped_read \u001b[39m=\u001b[39m \u001b[39mNone\u001b[39;00m\n\u001b[0;32m     32\u001b[0m \u001b[39mself\u001b[39m\u001b[39m.\u001b[39m_overlapped_write \u001b[39m=\u001b[39m \u001b[39mNone\u001b[39;00m\n\u001b[1;32m---> 33\u001b[0m \u001b[39msuper\u001b[39;49m(Serial, \u001b[39mself\u001b[39;49m)\u001b[39m.\u001b[39;49m\u001b[39m__init__\u001b[39;49m(\u001b[39m*\u001b[39;49margs, \u001b[39m*\u001b[39;49m\u001b[39m*\u001b[39;49mkwargs)\n",
      "File \u001b[1;32mc:\\Users\\asenn\\pycode\\pyprojects\\pvc-gels\\.venv.pvc-gels\\Lib\\site-packages\\serial\\serialutil.py:244\u001b[0m, in \u001b[0;36mSerialBase.__init__\u001b[1;34m(self, port, baudrate, bytesize, parity, stopbits, timeout, xonxoff, rtscts, write_timeout, dsrdtr, inter_byte_timeout, exclusive, **kwargs)\u001b[0m\n\u001b[0;32m    241\u001b[0m     \u001b[39mraise\u001b[39;00m \u001b[39mValueError\u001b[39;00m(\u001b[39m'\u001b[39m\u001b[39munexpected keyword arguments: \u001b[39m\u001b[39m{!r}\u001b[39;00m\u001b[39m'\u001b[39m\u001b[39m.\u001b[39mformat(kwargs))\n\u001b[0;32m    243\u001b[0m \u001b[39mif\u001b[39;00m port \u001b[39mis\u001b[39;00m \u001b[39mnot\u001b[39;00m \u001b[39mNone\u001b[39;00m:\n\u001b[1;32m--> 244\u001b[0m     \u001b[39mself\u001b[39;49m\u001b[39m.\u001b[39;49mopen()\n",
      "File \u001b[1;32mc:\\Users\\asenn\\pycode\\pyprojects\\pvc-gels\\.venv.pvc-gels\\Lib\\site-packages\\serial\\serialwin32.py:64\u001b[0m, in \u001b[0;36mSerial.open\u001b[1;34m(self)\u001b[0m\n\u001b[0;32m     62\u001b[0m \u001b[39mif\u001b[39;00m \u001b[39mself\u001b[39m\u001b[39m.\u001b[39m_port_handle \u001b[39m==\u001b[39m win32\u001b[39m.\u001b[39mINVALID_HANDLE_VALUE:\n\u001b[0;32m     63\u001b[0m     \u001b[39mself\u001b[39m\u001b[39m.\u001b[39m_port_handle \u001b[39m=\u001b[39m \u001b[39mNone\u001b[39;00m    \u001b[39m# 'cause __del__ is called anyway\u001b[39;00m\n\u001b[1;32m---> 64\u001b[0m     \u001b[39mraise\u001b[39;00m SerialException(\u001b[39m\"\u001b[39m\u001b[39mcould not open port \u001b[39m\u001b[39m{!r}\u001b[39;00m\u001b[39m: \u001b[39m\u001b[39m{!r}\u001b[39;00m\u001b[39m\"\u001b[39m\u001b[39m.\u001b[39mformat(\u001b[39mself\u001b[39m\u001b[39m.\u001b[39mportstr, ctypes\u001b[39m.\u001b[39mWinError()))\n\u001b[0;32m     66\u001b[0m \u001b[39mtry\u001b[39;00m:\n\u001b[0;32m     67\u001b[0m     \u001b[39mself\u001b[39m\u001b[39m.\u001b[39m_overlapped_read \u001b[39m=\u001b[39m win32\u001b[39m.\u001b[39mOVERLAPPED()\n",
      "\u001b[1;31mSerialException\u001b[0m: could not open port 'COM4': PermissionError(13, 'Access is denied.', None, 5)"
     ]
    }
   ],
   "source": [
    "import serial\n",
    "ser = serial.Serial(\"COM4\", 250000)\n",
    "ser.close()\n"
   ]
  },
  {
   "cell_type": "code",
   "execution_count": null,
   "metadata": {},
   "outputs": [],
   "source": [
    "ser = serial.Serial(\"COM4\", 250000)\n",
    "ser.write(\"M140 S30\\n\".encode())\n",
    "time.sleep(5)\n",
    "ser.write(\"M140 S30\\n\".encode())\n",
    "time.sleep(5)\n",
    "ser.close()"
   ]
  },
  {
   "cell_type": "code",
   "execution_count": 33,
   "metadata": {},
   "outputs": [
    {
     "name": "stdout",
     "output_type": "stream",
     "text": [
      "connected\n"
     ]
    }
   ],
   "source": [
    "ser.close()\n",
    "ser = serial.Serial(\"COM4\", 250000)\n",
    "\n",
    " \n",
    "if ser.is_open:\n",
    "    print(\"connected\")\n"
   ]
  },
  {
   "cell_type": "code",
   "execution_count": 21,
   "metadata": {},
   "outputs": [
    {
     "name": "stdout",
     "output_type": "stream",
     "text": [
      "something\n"
     ]
    },
    {
     "ename": "OSError",
     "evalue": "",
     "output_type": "error",
     "traceback": [
      "\u001b[1;31m---------------------------------------------------------------------------\u001b[0m",
      "\u001b[1;31mOSError\u001b[0m                                   Traceback (most recent call last)",
      "Cell \u001b[1;32mIn[21], line 9\u001b[0m\n\u001b[0;32m      7\u001b[0m         \u001b[39mprint\u001b[39m(\u001b[39m\"\u001b[39m\u001b[39msomething\u001b[39m\u001b[39m\"\u001b[39m)\n\u001b[0;32m      8\u001b[0m         ser\u001b[39m.\u001b[39mclose()\n\u001b[1;32m----> 9\u001b[0m         \u001b[39mraise\u001b[39;00m \u001b[39mOSError\u001b[39;00m\n\u001b[0;32m     11\u001b[0m \u001b[39mfinally\u001b[39;00m:\n\u001b[0;32m     12\u001b[0m     ser \u001b[39m=\u001b[39m serial\u001b[39m.\u001b[39mSerial(\u001b[39m\"\u001b[39m\u001b[39mCOM4\u001b[39m\u001b[39m\"\u001b[39m, \u001b[39m250000\u001b[39m) \n",
      "\u001b[1;31mOSError\u001b[0m: "
     ]
    }
   ],
   "source": [
    "increment_distance = 1\n",
    "ser.close()\n",
    "import time\n",
    "\n",
    "try:\n",
    "    with serial.Serial(\"COM4\", 250000) as ser:\n",
    "        print(\"something\")\n",
    "        ser.close()\n",
    "        raise OSError(\"your shit's fucked\")\n",
    "\n",
    "finally:\n",
    "    ser = serial.Serial(\"COM4\", 250000) \n",
    "    time.sleep(1)\n",
    "    ser.write((f\"G1 Z{increment_distance}\\n\").encode())\n",
    "    ser.close()"
   ]
  }
 ],
 "metadata": {
  "kernelspec": {
   "display_name": "Python 3",
   "language": "python",
   "name": "python3"
  },
  "language_info": {
   "codemirror_mode": {
    "name": "ipython",
    "version": 3
   },
   "file_extension": ".py",
   "mimetype": "text/x-python",
   "name": "python",
   "nbconvert_exporter": "python",
   "pygments_lexer": "ipython3",
   "version": "3.11.2"
  },
  "orig_nbformat": 4
 },
 "nbformat": 4,
 "nbformat_minor": 2
}
