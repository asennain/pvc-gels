{
 "cells": [
  {
   "attachments": {},
   "cell_type": "markdown",
   "metadata": {},
   "source": [
    "# General Trend: Plot all data on the same graph \n",
    "\n",
    "1. Split DataFrame into adjacent columns for both channels, remove NaN values\n",
    "   1. Find biggest deviation in Relative Time column, this is where the data for the channels splits \n"
   ]
  },
  {
   "cell_type": "code",
   "execution_count": 79,
   "metadata": {},
   "outputs": [],
   "source": [
    "import pandas as pd \n",
    "import matplotlib.pyplot as plt\n",
    "\n",
    "def print_dataframe_pls(dataframe):\n",
    "    with pd.option_context('display.max_rows', None,\n",
    "                        'display.max_columns', None,\n",
    "                        'display.precision', 3,\n",
    "                        ):\n",
    "        print(dataframe)\n",
    "\n",
    "\n",
    "\n",
    "\n",
    "first_test = pd.read_csv(filepath_or_buffer = r\"C:\\Users\\asenn\\OneDrive\\School\\Research\\MSIPP (Georgia 2023)\\Temperature Data\\t1e1.csv\", skiprows=18)\n",
    "split_df_index_location = first_test.diff().multiply(-1).idxmax()[0]\n",
    "\n",
    "load_channel_raw = first_test.iloc[:split_df_index_location,:].dropna(axis=1)\n",
    "# Drop last row in load_channel so that load_channel and pvc_channel have the same length \n",
    "load_channel_raw.drop([len(load_channel_raw)-1], inplace=True)\n",
    "# Multiply to make sure that Load is in grams 10 mV = 250g \n",
    "load_channel = load_channel_raw.multiply(other= [1, -1000 * 25])\n",
    "\n",
    "# Sort pvc data into separate DataFrame to combine later \n",
    "pvc_channel = first_test.iloc[split_df_index_location:,:].dropna(axis=1).drop(columns=['Relative Time']).reset_index(drop = True)  * -1000 # Convert V to mV \n",
    "\n",
    "# Combine DataFrames into n x 3 DataFrame() with Time, Load and PVC Response \n",
    "main_df_untrimmed = pd.concat((load_channel, pvc_channel), axis=1)\n",
    "\n",
    "stopping_point = main_df_untrimmed.diff().multiply(-1).idxmax()[1]\n",
    "\n",
    "#! Uncomment this line of code if you need to view the full DataFrame() \n",
    "# print_dataframe_pls(main_df_untrimmed)\n",
    "\n",
    "main_df = main_df_untrimmed[stopping_point - 900:stopping_point]\n",
    "\n",
    "#! Uncomment this line of code if you need to view the full DataFrame() \n",
    "# print_dataframe_pls(main_df)"
   ]
  },
  {
   "cell_type": "code",
   "execution_count": 80,
   "metadata": {},
   "outputs": [
    {
     "name": "stderr",
     "output_type": "stream",
     "text": [
      "C:\\Users\\asenn\\AppData\\Local\\Temp\\ipykernel_776\\3457444894.py:2: SettingWithCopyWarning: \n",
      "A value is trying to be set on a copy of a slice from a DataFrame\n",
      "\n",
      "See the caveats in the documentation: https://pandas.pydata.org/pandas-docs/stable/user_guide/indexing.html#returning-a-view-versus-a-copy\n",
      "  main_df.rename({'CH110':'Load (g)', 'CH108':'Response (mV)'}, inplace=True, axis = 1)\n"
     ]
    },
    {
     "data": {
      "text/plain": [
       "<matplotlib.collections.PathCollection at 0x22679a1e450>"
      ]
     },
     "execution_count": 80,
     "metadata": {},
     "output_type": "execute_result"
    },
    {
     "data": {
      "image/png": "[encoded data removed]",
      "text/plain": [
       "<Figure size 640x480 with 1 Axes>"
      ]
     },
     "metadata": {},
     "output_type": "display_data"
    }
   ],
   "source": [
    "\n",
    "\n",
    "# Rename columns from CH1XX to Load and Response\n",
    "main_df.rename({'CH110':'Load (g)', 'CH108':'Response (mV)'}, inplace=True, axis = 1)\n",
    "\n",
    "\n",
    "fig, ax = plt.subplots()\n",
    "ax.scatter(main_df['Load (g)'], main_df['Response (mV)'] )\n",
    "\n",
    "\n",
    "\n",
    "\n",
    "\n"
   ]
  }
 ],
 "metadata": {
  "kernelspec": {
   "display_name": ".venv.pvc-gels",
   "language": "python",
   "name": "python3"
  },
  "language_info": {
   "codemirror_mode": {
    "name": "ipython",
    "version": 3
   },
   "file_extension": ".py",
   "mimetype": "text/x-python",
   "name": "python",
   "nbconvert_exporter": "python",
   "pygments_lexer": "ipython3",
   "version": "3.11.2"
  },
  "orig_nbformat": 4
 },
 "nbformat": 4,
 "nbformat_minor": 2
}
